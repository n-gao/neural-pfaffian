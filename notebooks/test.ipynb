{
 "cells": [
  {
   "cell_type": "code",
   "execution_count": 1,
   "metadata": {},
   "outputs": [],
   "source": [
    "%load_ext autoreload\n",
    "%autoreload 2\n",
    "import flax.linen as nn\n",
    "import jax\n",
    "import jax.numpy as jnp\n",
    "import numpy as np\n",
    "\n",
    "from neural_pfaffian.nn.envelopes import EfficientEnvelope\n",
    "from neural_pfaffian.nn.ferminet import FermiNet\n",
    "from neural_pfaffian.nn.meta_network import MetaGNN\n",
    "from neural_pfaffian.nn.module import ParamTypes, ReparamModule\n",
    "from neural_pfaffian.nn.orbitals import Pfaffian\n",
    "from neural_pfaffian.nn.psiformer import PsiFormer\n",
    "from neural_pfaffian.nn.wave_function import GeneralizedWaveFunction, WaveFunction\n",
    "from neural_pfaffian.systems import Systems"
   ]
  },
  {
   "cell_type": "code",
   "execution_count": 3,
   "metadata": {},
   "outputs": [
    {
     "name": "stderr",
     "output_type": "stream",
     "text": [
      "/ceph/ssd/staff/gaoni/repos/neural_pfaffian/.venv/lib/python3.12/site-packages/jax/_src/numpy/array_methods.py:118: UserWarning: Explicitly requested dtype <class 'jax.numpy.float64'> requested in astype is not available, and will be truncated to dtype float32. To enable more dtypes, set the jax_enable_x64 configuration option or the JAX_ENABLE_X64 shell environment variable. See https://github.com/jax-ml/jax#current-gotchas for more.\n",
      "  return lax_numpy.astype(self, dtype, copy=copy, device=device)\n"
     ]
    }
   ],
   "source": [
    "system = Systems(\n",
    "    spins=((2, 2),),\n",
    "    charges=((2,),),\n",
    "    electrons=jnp.asarray(np.random.normal(size=(4, 3))),\n",
    "    nuclei=jnp.zeros((1, 3)),\n",
    ")\n",
    "embedding = FermiNet(256, [(256, 32), (256, 32)], jnp.tanh)\n",
    "embedding = PsiFormer(256, 256, 4, 4, jnp.tanh)\n",
    "# embedding = Moon(256, 4, 256, 64, 16, 6, jnp.tanh)\n",
    "envelopes = EfficientEnvelope(1, 1, True, 8)\n",
    "orbitals = Pfaffian(16, 8, envelopes, 10, 0.1, 1.0, 1e-4)\n",
    "meta = MetaGNN(None, 64, 128, 4, jnp.tanh, 8, tuple(system.flat_charges))\n",
    "wf = WaveFunction(embedding, orbitals, [])\n",
    "g_wf = GeneralizedWaveFunction.create(wf, meta)\n",
    "params = g_wf.init(jax.random.key(0), system)"
   ]
  },
  {
   "cell_type": "code",
   "execution_count": 7,
   "metadata": {},
   "outputs": [],
   "source": [
    "system2 = system.replace(\n",
    "    electrons=system.electrons[None],\n",
    "    nuclei=system.nuclei,\n",
    ")"
   ]
  },
  {
   "cell_type": "code",
   "execution_count": 4,
   "metadata": {},
   "outputs": [
    {
     "data": {
      "text/plain": [
       "GeneralizedWaveFunction(wave_function=WaveFunction(\n",
       "    # attributes\n",
       "    embedding_module = PsiFormer(\n",
       "        # attributes\n",
       "        embedding_dim = 256\n",
       "        dim = 256\n",
       "        n_head = 4\n",
       "        n_layer = 4\n",
       "        activation = tanh\n",
       "    )\n",
       "    orbital_module = Pfaffian(\n",
       "        # attributes\n",
       "        determinants = 16\n",
       "        orb_per_nuc = 8\n",
       "        envelopes = EfficientEnvelope(\n",
       "            # attributes\n",
       "            out_dim = 1\n",
       "            pi_init = 1\n",
       "            out_per_nuc = True\n",
       "            env_per_nuc = 8\n",
       "        )\n",
       "        hf_match_steps = 10\n",
       "        hf_match_lr = 0.1\n",
       "        hf_match_orbitals = 1.0\n",
       "        hf_match_pfaffian = 0.0001\n",
       "    )\n",
       "    jastrow_modules = []\n",
       "), meta_network=MetaGNN(\n",
       "    # attributes\n",
       "    out_structure = {'embedding_module': {'FermiNetFeatures_0': {'kernel': ParamMeta(param_type=<ParamTypes.NUCLEI: ParamType(name='nuclei', chunk_fn=<function chunk_nuclei at 0x7f09c70bafc0>)>, shape_and_dtype=ShapeDtypeStruct(shape=(4, 256), dtype=float32), mean=Array(-0.02240709, dtype=float32), std=Array(0.5013644, dtype=float32), bias=True, chunk_axis=None), 'bias': ParamMeta(param_type=<ParamTypes.NUCLEI: ParamType(name='nuclei', chunk_fn=<function chunk_nuclei at 0x7f09c70bafc0>)>, shape_and_dtype=ShapeDtypeStruct(shape=(256,), dtype=float32), mean=Array(0., dtype=float32), std=Array(0., dtype=float32), bias=True, chunk_axis=None)}}, 'orbital_module': {'antisymmetrizer': ParamMeta(param_type=<ParamTypes.NUCLEI_NUCLEI: ParamType(name='nuclei_nuclei', chunk_fn=<function chunk_nuclei_nuclei at 0x7f09c70bae80>)>, shape_and_dtype=ShapeDtypeStruct(shape=(8, 8, 16), dtype=float32), mean=Array(-0.02669186, dtype=float32), std=Array(1.0009776, dtype=float32), bias=False, chunk_axis=-1), 'PerNucOrbitals_0': {'projection': ParamMeta(param_type=<ParamTypes.NUCLEI: ParamType(name='nuclei', chunk_fn=<function chunk_nuclei at 0x7f09c70bafc0>)>, shape_and_dtype=ShapeDtypeStruct(shape=(8, 256, 16), dtype=float32), mean=Array(6.390295e-05, dtype=float32), std=Array(0.06272832, dtype=float32), bias=True, chunk_axis=-1), 'envelope': {'pi': ParamMeta(param_type=<ParamTypes.NUCLEI_NUCLEI: ParamType(name='nuclei_nuclei', chunk_fn=<function chunk_nuclei_nuclei at 0x7f09c70bae80>)>, shape_and_dtype=ShapeDtypeStruct(shape=(128, 8), dtype=float32), mean=Array(1., dtype=float32), std=Array(0., dtype=float32), bias=False, chunk_axis=None), 'sigma': ParamMeta(param_type=<ParamTypes.NUCLEI: ParamType(name='nuclei', chunk_fn=<function chunk_nuclei at 0x7f09c70bafc0>)>, shape_and_dtype=ShapeDtypeStruct(shape=(8,), dtype=float32), mean=Array(1., dtype=float32), std=Array(0., dtype=float32), bias=True, chunk_axis=None)}}, 'PerNucOrbitals_1': {'projection': ParamMeta(param_type=<ParamTypes.NUCLEI: ParamType(name='nuclei', chunk_fn=<function chunk_nuclei at 0x7f09c70bafc0>)>, shape_and_dtype=ShapeDtypeStruct(shape=(8, 256, 16), dtype=float32), mean=Array(9.932343e-05, dtype=float32), std=Array(0.06274327, dtype=float32), bias=True, chunk_axis=-1), 'envelope': {'pi': ParamMeta(param_type=<ParamTypes.NUCLEI_NUCLEI: ParamType(name='nuclei_nuclei', chunk_fn=<function chunk_nuclei_nuclei at 0x7f09c70bae80>)>, shape_and_dtype=ShapeDtypeStruct(shape=(128, 8), dtype=float32), mean=Array(0., dtype=float32), std=Array(0., dtype=float32), bias=False, chunk_axis=None), 'sigma': ParamMeta(param_type=<ParamTypes.NUCLEI: ParamType(name='nuclei', chunk_fn=<function chunk_nuclei at 0x7f09c70bafc0>)>, shape_and_dtype=ShapeDtypeStruct(shape=(8,), dtype=float32), mean=Array(1., dtype=float32), std=Array(0., dtype=float32), bias=True, chunk_axis=None)}}}}\n",
       "    message_dim = 64\n",
       "    embedding_dim = 128\n",
       "    num_layers = 4\n",
       "    activation = tanh\n",
       "    n_rbf = 8\n",
       "    charges = (np.int64(2),)\n",
       "), reparam_meta={'embedding_module': {'FermiNetFeatures_0': {'kernel': ParamMeta(param_type=<ParamTypes.NUCLEI: ParamType(name='nuclei', chunk_fn=<function chunk_nuclei at 0x7f09c70bafc0>)>, shape_and_dtype=ShapeDtypeStruct(shape=(4, 256), dtype=float32), mean=Array(-0.02240709, dtype=float32), std=Array(0.5013644, dtype=float32), bias=True, chunk_axis=None), 'bias': ParamMeta(param_type=<ParamTypes.NUCLEI: ParamType(name='nuclei', chunk_fn=<function chunk_nuclei at 0x7f09c70bafc0>)>, shape_and_dtype=ShapeDtypeStruct(shape=(256,), dtype=float32), mean=Array(0., dtype=float32), std=Array(0., dtype=float32), bias=True, chunk_axis=None)}}, 'orbital_module': {'antisymmetrizer': ParamMeta(param_type=<ParamTypes.NUCLEI_NUCLEI: ParamType(name='nuclei_nuclei', chunk_fn=<function chunk_nuclei_nuclei at 0x7f09c70bae80>)>, shape_and_dtype=ShapeDtypeStruct(shape=(8, 8, 16), dtype=float32), mean=Array(-0.02669186, dtype=float32), std=Array(1.0009776, dtype=float32), bias=False, chunk_axis=-1), 'PerNucOrbitals_0': {'projection': ParamMeta(param_type=<ParamTypes.NUCLEI: ParamType(name='nuclei', chunk_fn=<function chunk_nuclei at 0x7f09c70bafc0>)>, shape_and_dtype=ShapeDtypeStruct(shape=(8, 256, 16), dtype=float32), mean=Array(6.390295e-05, dtype=float32), std=Array(0.06272832, dtype=float32), bias=True, chunk_axis=-1), 'envelope': {'pi': ParamMeta(param_type=<ParamTypes.NUCLEI_NUCLEI: ParamType(name='nuclei_nuclei', chunk_fn=<function chunk_nuclei_nuclei at 0x7f09c70bae80>)>, shape_and_dtype=ShapeDtypeStruct(shape=(128, 8), dtype=float32), mean=Array(1., dtype=float32), std=Array(0., dtype=float32), bias=False, chunk_axis=None), 'sigma': ParamMeta(param_type=<ParamTypes.NUCLEI: ParamType(name='nuclei', chunk_fn=<function chunk_nuclei at 0x7f09c70bafc0>)>, shape_and_dtype=ShapeDtypeStruct(shape=(8,), dtype=float32), mean=Array(1., dtype=float32), std=Array(0., dtype=float32), bias=True, chunk_axis=None)}}, 'PerNucOrbitals_1': {'projection': ParamMeta(param_type=<ParamTypes.NUCLEI: ParamType(name='nuclei', chunk_fn=<function chunk_nuclei at 0x7f09c70bafc0>)>, shape_and_dtype=ShapeDtypeStruct(shape=(8, 256, 16), dtype=float32), mean=Array(9.932343e-05, dtype=float32), std=Array(0.06274327, dtype=float32), bias=True, chunk_axis=-1), 'envelope': {'pi': ParamMeta(param_type=<ParamTypes.NUCLEI_NUCLEI: ParamType(name='nuclei_nuclei', chunk_fn=<function chunk_nuclei_nuclei at 0x7f09c70bae80>)>, shape_and_dtype=ShapeDtypeStruct(shape=(128, 8), dtype=float32), mean=Array(0., dtype=float32), std=Array(0., dtype=float32), bias=False, chunk_axis=None), 'sigma': ParamMeta(param_type=<ParamTypes.NUCLEI: ParamType(name='nuclei', chunk_fn=<function chunk_nuclei at 0x7f09c70bafc0>)>, shape_and_dtype=ShapeDtypeStruct(shape=(8,), dtype=float32), mean=Array(1., dtype=float32), std=Array(0., dtype=float32), bias=True, chunk_axis=None)}}}}, _reparam=FrozenDict({\n",
       "    embedding_module: {\n",
       "        FermiNetFeatures_0: {\n",
       "            bias: Array([[0., 0., 0., 0., 0., 0., 0., 0., 0., 0., 0., 0., 0., 0., 0., 0.,\n",
       "                    0., 0., 0., 0., 0., 0., 0., 0., 0., 0., 0., 0., 0., 0., 0., 0.,\n",
       "                    0., 0., 0., 0., 0., 0., 0., 0., 0., 0., 0., 0., 0., 0., 0., 0.,\n",
       "                    0., 0., 0., 0., 0., 0., 0., 0., 0., 0., 0., 0., 0., 0., 0., 0.,\n",
       "                    0., 0., 0., 0., 0., 0., 0., 0., 0., 0., 0., 0., 0., 0., 0., 0.,\n",
       "                    0., 0., 0., 0., 0., 0., 0., 0., 0., 0., 0., 0., 0., 0., 0., 0.,\n",
       "                    0., 0., 0., 0., 0., 0., 0., 0., 0., 0., 0., 0., 0., 0., 0., 0.,\n",
       "                    0., 0., 0., 0., 0., 0., 0., 0., 0., 0., 0., 0., 0., 0., 0., 0.,\n",
       "                    0., 0., 0., 0., 0., 0., 0., 0., 0., 0., 0., 0., 0., 0., 0., 0.,\n",
       "                    0., 0., 0., 0., 0., 0., 0., 0., 0., 0., 0., 0., 0., 0., 0., 0.,\n",
       "                    0., 0., 0., 0., 0., 0., 0., 0., 0., 0., 0., 0., 0., 0., 0., 0.,\n",
       "                    0., 0., 0., 0., 0., 0., 0., 0., 0., 0., 0., 0., 0., 0., 0., 0.,\n",
       "                    0., 0., 0., 0., 0., 0., 0., 0., 0., 0., 0., 0., 0., 0., 0., 0.,\n",
       "                    0., 0., 0., 0., 0., 0., 0., 0., 0., 0., 0., 0., 0., 0., 0., 0.,\n",
       "                    0., 0., 0., 0., 0., 0., 0., 0., 0., 0., 0., 0., 0., 0., 0., 0.,\n",
       "                    0., 0., 0., 0., 0., 0., 0., 0., 0., 0., 0., 0., 0., 0., 0., 0.]],      dtype=float32),\n",
       "            kernel: Array([[[ 6.8178838e-01, -2.6106614e-01,  6.3452236e-02, ...,\n",
       "                     -5.9916437e-01,  6.4122476e-02,  4.7238046e-01],\n",
       "                    [ 8.1415005e-02,  2.9384667e-02, -1.2441168e-02, ...,\n",
       "                     -1.7790867e-01, -1.2074958e-01, -8.8599600e-02],\n",
       "                    [ 8.7470971e-02,  1.2202747e-04,  6.3055843e-01, ...,\n",
       "                      2.9473028e-01, -7.8128949e-03, -3.5088745e-01],\n",
       "                    [ 1.7219105e-01, -6.2855378e-02,  4.3042116e-02, ...,\n",
       "                     -5.5479139e-01, -3.2607594e-01, -8.7327027e-01]]], dtype=float32),\n",
       "        },\n",
       "    },\n",
       "    orbital_module: {\n",
       "        PerNucOrbitals_0: {\n",
       "            envelope: {\n",
       "                pi: Array([[[1., 1., 1., ..., 1., 1., 1.],\n",
       "                        [1., 1., 1., ..., 1., 1., 1.],\n",
       "                        [1., 1., 1., ..., 1., 1., 1.],\n",
       "                        ...,\n",
       "                        [1., 1., 1., ..., 1., 1., 1.],\n",
       "                        [1., 1., 1., ..., 1., 1., 1.],\n",
       "                        [1., 1., 1., ..., 1., 1., 1.]]], dtype=float32),\n",
       "                sigma: Array([[1., 1., 1., 1., 1., 1., 1., 1.]], dtype=float32),\n",
       "            },\n",
       "            projection: Array([[[[ 0.007052  ,  0.00538154,  0.00843198, ...,  0.00515027,\n",
       "                       0.00552371,  0.00766708],\n",
       "                     [-0.05669897, -0.05824666, -0.05649954, ..., -0.05643066,\n",
       "                      -0.05733987, -0.0577156 ],\n",
       "                     [ 0.04144835,  0.04066641,  0.04130783, ...,  0.0415062 ,\n",
       "                       0.04119246,  0.04147994],\n",
       "                     ...,\n",
       "                     [-0.04250056, -0.04296856, -0.04178813, ..., -0.04063876,\n",
       "                      -0.04311845, -0.04197491],\n",
       "                     [-0.00502774, -0.00915881, -0.00858841, ..., -0.00763433,\n",
       "                      -0.00987929, -0.00929328],\n",
       "                     [-0.00509987, -0.00610234, -0.00881758, ..., -0.00631001,\n",
       "                      -0.00717544, -0.00700006]],\n",
       "            \n",
       "                    [[-0.04916503, -0.05030497, -0.04892263, ..., -0.04680377,\n",
       "                      -0.04786674, -0.04696603],\n",
       "                     [ 0.0009323 ,  0.00071473,  0.00108586, ...,  0.00055095,\n",
       "                      -0.00109035,  0.00020163],\n",
       "                     [ 0.04378571,  0.04304799,  0.04299857, ...,  0.04046529,\n",
       "                       0.04113998,  0.04324286],\n",
       "                     ...,\n",
       "                     [-0.01020159, -0.0091374 , -0.00968651, ..., -0.00853736,\n",
       "                      -0.01120314, -0.01171055],\n",
       "                     [ 0.02981886,  0.02886954,  0.03060061, ...,  0.02965532,\n",
       "                       0.02953349,  0.02928559],\n",
       "                     [ 0.02899235,  0.03056395,  0.02965329, ...,  0.02936729,\n",
       "                       0.03121336,  0.02875899]],\n",
       "            \n",
       "                    [[-0.04787095, -0.05044156, -0.04766458, ..., -0.04767109,\n",
       "                      -0.04877274, -0.04740783],\n",
       "                     [-0.02833343, -0.02789435, -0.02708153, ..., -0.02430834,\n",
       "                      -0.02775368, -0.03056984],\n",
       "                     [ 0.02226658,  0.02303016,  0.02377338, ...,  0.02204057,\n",
       "                       0.02340648,  0.02335668],\n",
       "                     ...,\n",
       "                     [-0.00284081, -0.00449892, -0.00111981, ..., -0.00273689,\n",
       "                      -0.00443018, -0.00245431],\n",
       "                     [ 0.01104864,  0.00971038,  0.01093961, ...,  0.00912786,\n",
       "                       0.01067847,  0.01041192],\n",
       "                     [-0.04956587, -0.04869346, -0.0488887 , ..., -0.04813924,\n",
       "                      -0.04777149, -0.04846613]],\n",
       "            \n",
       "                    ...,\n",
       "            \n",
       "                    [[ 0.05181139,  0.05578924,  0.05340906, ...,  0.05350487,\n",
       "                       0.05492303,  0.05383633],\n",
       "                     [-0.0192612 , -0.02035719, -0.01972849, ..., -0.01911219,\n",
       "                      -0.01895309, -0.02036621],\n",
       "                     [-0.0214295 , -0.02149107, -0.02429723, ..., -0.02366478,\n",
       "                      -0.02514843, -0.0224045 ],\n",
       "                     ...,\n",
       "                     [ 0.030952  ,  0.02851704,  0.02797257, ...,  0.02795806,\n",
       "                       0.03007093,  0.02788369],\n",
       "                     [-0.01949034, -0.0188898 , -0.02033068, ..., -0.02003103,\n",
       "                      -0.01921075, -0.02008048],\n",
       "                     [-0.01985947, -0.01964758, -0.01770039, ..., -0.02007673,\n",
       "                      -0.01709304, -0.01852448]],\n",
       "            \n",
       "                    [[ 0.00952617,  0.00943419,  0.01286107, ...,  0.01100509,\n",
       "                       0.01156296,  0.01019942],\n",
       "                     [ 0.01214976,  0.01162961,  0.01310827, ...,  0.01248   ,\n",
       "                       0.01151772,  0.01416889],\n",
       "                     [-0.02468422, -0.02194759, -0.02357107, ..., -0.02193224,\n",
       "                      -0.02362703, -0.02438771],\n",
       "                     ...,\n",
       "                     [ 0.00687883,  0.00590537,  0.00651138, ...,  0.00591441,\n",
       "                       0.00506328,  0.00788361],\n",
       "                     [-0.02478456, -0.02810064, -0.02320554, ..., -0.02298068,\n",
       "                      -0.02520517, -0.02405266],\n",
       "                     [-0.01470752, -0.01432205, -0.01471049, ..., -0.014337  ,\n",
       "                      -0.01508753, -0.01677177]],\n",
       "            \n",
       "                    [[ 0.05306305,  0.05363289,  0.05189731, ...,  0.05321012,\n",
       "                       0.0558066 ,  0.05330368],\n",
       "                     [-0.02828979, -0.03308061, -0.02796556, ..., -0.02863691,\n",
       "                      -0.03083243, -0.02859319],\n",
       "                     [ 0.03485178,  0.03248008,  0.03151027, ...,  0.0310626 ,\n",
       "                       0.03060519,  0.03392541],\n",
       "                     ...,\n",
       "                     [ 0.03430032,  0.03305875,  0.03465712, ...,  0.03471587,\n",
       "                       0.03436996,  0.03343343],\n",
       "                     [-0.02805147, -0.02870471, -0.02896587, ..., -0.03190965,\n",
       "                      -0.02792849, -0.02972554],\n",
       "                     [ 0.00999838,  0.01086896,  0.00727711, ...,  0.00765258,\n",
       "                       0.00863794,  0.01060754]]]], dtype=float32),\n",
       "        },\n",
       "        PerNucOrbitals_1: {\n",
       "            envelope: {\n",
       "                pi: Array([[[0., 0., 0., ..., 0., 0., 0.],\n",
       "                        [0., 0., 0., ..., 0., 0., 0.],\n",
       "                        [0., 0., 0., ..., 0., 0., 0.],\n",
       "                        ...,\n",
       "                        [0., 0., 0., ..., 0., 0., 0.],\n",
       "                        [0., 0., 0., ..., 0., 0., 0.],\n",
       "                        [0., 0., 0., ..., 0., 0., 0.]]], dtype=float32),\n",
       "                sigma: Array([[1., 1., 1., 1., 1., 1., 1., 1.]], dtype=float32),\n",
       "            },\n",
       "            projection: Array([[[[ 1.59696527e-02,  1.38262957e-02,  1.56704579e-02, ...,\n",
       "                       1.64133292e-02,  1.79400425e-02,  1.78073682e-02],\n",
       "                     [ 7.48611055e-03,  7.33784167e-03,  6.28506765e-03, ...,\n",
       "                       5.17429691e-03,  6.85889833e-03,  4.12795553e-03],\n",
       "                     [-3.36040594e-02, -3.39505263e-02, -3.56393084e-02, ...,\n",
       "                      -3.10205370e-02, -3.04376110e-02, -3.11837271e-02],\n",
       "                     ...,\n",
       "                     [-2.52128374e-02, -2.67846063e-02, -2.51273550e-02, ...,\n",
       "                      -2.68635694e-02, -2.76854858e-02, -2.63789929e-02],\n",
       "                     [-3.47046852e-02, -3.52094695e-02, -3.48426364e-02, ...,\n",
       "                      -3.68092768e-02, -3.32031325e-02, -3.47197503e-02],\n",
       "                     [ 1.14420146e-01,  1.17250353e-01,  1.18680626e-01, ...,\n",
       "                       1.12964489e-01,  1.17641501e-01,  1.15585461e-01]],\n",
       "            \n",
       "                    [[-1.41394576e-02, -1.38525255e-02, -1.54249761e-02, ...,\n",
       "                      -1.43845994e-02, -1.69742797e-02, -1.34830391e-02],\n",
       "                     [ 6.04465604e-04, -2.60751531e-03, -1.40549091e-03, ...,\n",
       "                       2.21619802e-03,  8.08232813e-04, -3.83851933e-03],\n",
       "                     [-2.59823594e-02, -2.64235474e-02, -2.52060667e-02, ...,\n",
       "                      -2.74728090e-02, -2.58234050e-02, -2.60077994e-02],\n",
       "                     ...,\n",
       "                     [ 4.04994078e-02,  3.88870835e-02,  4.07029241e-02, ...,\n",
       "                       4.25183848e-02,  4.25844863e-02,  4.00999859e-02],\n",
       "                     [-4.68229353e-02, -4.27697226e-02, -4.54542451e-02, ...,\n",
       "                      -4.29711044e-02, -4.60421778e-02, -4.33227606e-02],\n",
       "                     [-5.68074659e-02, -6.17347062e-02, -6.02815077e-02, ...,\n",
       "                      -5.68933114e-02, -6.07166849e-02, -6.11005574e-02]],\n",
       "            \n",
       "                    [[ 4.94632758e-02,  5.01310006e-02,  4.95585129e-02, ...,\n",
       "                       4.83797863e-02,  4.96555343e-02,  5.03123105e-02],\n",
       "                     [-3.54212113e-02, -3.74777503e-02, -3.59373614e-02, ...,\n",
       "                      -3.55976336e-02, -3.73007432e-02, -3.75902355e-02],\n",
       "                     [-4.94065098e-02, -5.22265658e-02, -5.11435047e-02, ...,\n",
       "                      -4.82443757e-02, -4.90934551e-02, -4.89712246e-02],\n",
       "                     ...,\n",
       "                     [-4.72818986e-02, -5.03865406e-02, -5.02859280e-02, ...,\n",
       "                      -5.01389280e-02, -5.20375594e-02, -4.86254431e-02],\n",
       "                     [-5.31873703e-02, -5.68922535e-02, -5.35236895e-02, ...,\n",
       "                      -5.30919023e-02, -5.45057803e-02, -5.55113889e-02],\n",
       "                     [-4.81252447e-02, -4.83376905e-02, -4.82812412e-02, ...,\n",
       "                      -4.63618077e-02, -4.70540784e-02, -4.85918596e-02]],\n",
       "            \n",
       "                    ...,\n",
       "            \n",
       "                    [[-7.85343722e-03, -7.23895757e-03, -6.40943414e-03, ...,\n",
       "                      -3.96384625e-03, -8.59664567e-03, -6.03508251e-03],\n",
       "                     [ 4.41577733e-02,  4.25832085e-02,  4.42245565e-02, ...,\n",
       "                       4.78155613e-02,  4.76442911e-02,  4.42357138e-02],\n",
       "                     [-2.23605260e-02, -2.18522660e-02, -2.22504083e-02, ...,\n",
       "                      -2.12075468e-02, -1.99713446e-02, -2.10519508e-02],\n",
       "                     ...,\n",
       "                     [-4.47041765e-02, -4.62403148e-02, -4.82440516e-02, ...,\n",
       "                      -4.32261974e-02, -4.33874950e-02, -4.52476181e-02],\n",
       "                     [ 3.52287553e-02,  3.32686640e-02,  3.25299948e-02, ...,\n",
       "                       3.22594680e-02,  3.19583975e-02,  3.30999568e-02],\n",
       "                     [-6.18068948e-02, -6.13762960e-02, -5.96279912e-02, ...,\n",
       "                      -5.97476475e-02, -6.02453649e-02, -5.66619672e-02]],\n",
       "            \n",
       "                    [[-1.51888542e-02, -1.49837844e-02, -1.51061341e-02, ...,\n",
       "                      -1.28785390e-02, -1.53528992e-02, -1.43212834e-02],\n",
       "                     [ 1.11885509e-03,  4.65756748e-03,  1.08513958e-03, ...,\n",
       "                       3.38052004e-03,  7.20788608e-04,  2.69571878e-03],\n",
       "                     [ 2.52468307e-02,  2.17491668e-02,  2.42233779e-02, ...,\n",
       "                       2.59923730e-02,  2.52291411e-02,  2.25450732e-02],\n",
       "                     ...,\n",
       "                     [-4.38545533e-02, -4.89510112e-02, -4.48449887e-02, ...,\n",
       "                      -4.21064310e-02, -4.21873741e-02, -4.44070436e-02],\n",
       "                     [ 1.36584276e-02,  1.24380020e-02,  1.28021110e-02, ...,\n",
       "                       1.17490720e-02,  1.15088867e-02,  1.52259450e-02],\n",
       "                     [ 1.11900307e-02,  1.29769584e-02,  9.92078241e-03, ...,\n",
       "                       9.85920988e-03,  9.93122812e-03,  1.30964248e-02]],\n",
       "            \n",
       "                    [[-1.30099701e-02, -8.39892868e-03, -1.09678712e-02, ...,\n",
       "                      -9.67897382e-03, -1.01386691e-02, -1.02078514e-02],\n",
       "                     [-2.64489371e-02, -2.53952593e-02, -2.56103948e-02, ...,\n",
       "                      -2.65115909e-02, -2.59246491e-02, -2.80432031e-02],\n",
       "                     [-3.51129309e-03,  2.40485580e-03,  2.35745613e-03, ...,\n",
       "                       4.69334045e-04,  1.56664453e-03, -1.30197295e-05],\n",
       "                     ...,\n",
       "                     [-7.13663176e-02, -7.16846809e-02, -7.15194941e-02, ...,\n",
       "                      -7.36622885e-02, -7.37365037e-02, -7.14260191e-02],\n",
       "                     [ 3.29366066e-02,  2.92436089e-02,  2.95371357e-02, ...,\n",
       "                       3.05806044e-02,  2.91221067e-02,  3.04113217e-02],\n",
       "                     [ 9.85554419e-03,  1.09654190e-02,  9.06069856e-03, ...,\n",
       "                       1.17398957e-02,  1.14839049e-02,  7.88833108e-03]]]],      dtype=float32),\n",
       "        },\n",
       "        antisymmetrizer: Array([[[[-0.2856974 , -0.44389215,  0.08232892, ..., -0.8471422 ,\n",
       "                   0.34067234,  0.28551328],\n",
       "                 [-0.12232237,  0.6282856 , -0.8631378 , ..., -0.7486463 ,\n",
       "                   0.53818136,  0.6444175 ],\n",
       "                 [ 0.75342417,  0.205234  , -1.2772527 , ...,  0.45339313,\n",
       "                  -0.39836597, -0.1408706 ],\n",
       "                 ...,\n",
       "                 [ 1.5945836 , -0.71022373, -0.40738595, ..., -0.13145314,\n",
       "                   0.8883106 , -0.12497906],\n",
       "                 [-0.17345147, -0.8231649 ,  0.19436617, ...,  0.199446  ,\n",
       "                  -0.597218  , -0.04546493],\n",
       "                 [-0.07926758, -0.1988589 , -0.449838  , ..., -0.74884534,\n",
       "                   0.14449665, -0.6763938 ]],\n",
       "        \n",
       "                [[-0.6284147 ,  1.2180231 ,  0.7240166 , ..., -0.13982807,\n",
       "                   0.45539862,  0.16273096],\n",
       "                 [-0.04010566,  0.30753228,  0.4615345 , ..., -0.08859237,\n",
       "                  -0.6657921 ,  0.10470463],\n",
       "                 [-1.088254  ,  1.1532732 , -0.4696857 , ...,  1.846763  ,\n",
       "                   0.27471483,  0.42959693],\n",
       "                 ...,\n",
       "                 [ 0.50557804,  0.8443029 , -0.11485665, ...,  1.1829273 ,\n",
       "                  -0.71603096,  0.6572615 ],\n",
       "                 [-0.5328072 , -0.06298824, -0.300432  , ...,  0.56219965,\n",
       "                  -0.29881412, -0.05455211],\n",
       "                 [-0.5451122 , -0.3479903 , -0.15252487, ..., -0.37282488,\n",
       "                  -0.86703974,  0.01535555]],\n",
       "        \n",
       "                [[ 0.4465126 ,  0.95110255,  0.5314548 , ..., -0.03841188,\n",
       "                  -0.43613285,  0.0358905 ],\n",
       "                 [-0.57094336, -1.814434  ,  0.50780094, ..., -0.211933  ,\n",
       "                  -0.23756772, -0.7969322 ],\n",
       "                 [-0.04609848,  0.612019  ,  0.32177326, ..., -0.17630064,\n",
       "                  -0.03423855,  0.13224123],\n",
       "                 ...,\n",
       "                 [ 0.8380935 ,  0.74763286, -1.0126035 , ...,  0.13915916,\n",
       "                  -0.24165496,  0.53142405],\n",
       "                 [-0.33921596,  0.44083118, -0.10170759, ...,  0.39436522,\n",
       "                  -0.6475716 ,  0.2978808 ],\n",
       "                 [ 0.5878845 ,  0.6429373 , -0.11691848, ...,  0.45582518,\n",
       "                  -0.07032577, -0.43329096]],\n",
       "        \n",
       "                ...,\n",
       "        \n",
       "                [[ 0.8440288 ,  0.99813443,  0.53837454, ...,  1.4904065 ,\n",
       "                   0.95703304, -0.11432592],\n",
       "                 [ 0.38575915,  0.18674053, -0.7223603 , ..., -0.7918948 ,\n",
       "                  -1.1071441 ,  0.04540976],\n",
       "                 [ 0.9922798 , -0.21110162,  0.11259113, ...,  0.76555556,\n",
       "                  -0.40437177, -0.70017827],\n",
       "                 ...,\n",
       "                 [-0.48122472,  1.4156247 ,  0.551887  , ..., -1.532698  ,\n",
       "                   0.80557334,  0.33493447],\n",
       "                 [ 1.2930521 ,  0.05399173,  0.27755478, ...,  0.64001167,\n",
       "                   1.1755718 ,  0.33454186],\n",
       "                 [ 0.4481227 , -1.0969126 ,  0.73104125, ...,  1.1154445 ,\n",
       "                   0.6225933 , -0.3585234 ]],\n",
       "        \n",
       "                [[-0.6404281 ,  0.4532644 , -0.48290378, ...,  0.5927836 ,\n",
       "                   0.33586347,  0.43886834],\n",
       "                 [ 0.16972758, -1.1894039 ,  0.3260483 , ...,  0.0396644 ,\n",
       "                   0.427452  ,  0.5031941 ],\n",
       "                 [ 0.47058132, -0.5000338 , -0.25101137, ...,  0.11435274,\n",
       "                   0.0513614 , -0.7594292 ],\n",
       "                 ...,\n",
       "                 [ 0.4954787 , -0.74958795,  0.86673313, ...,  0.7893637 ,\n",
       "                   0.32152212, -1.3561226 ],\n",
       "                 [ 0.00336876,  0.6580035 ,  0.11577778, ...,  0.32239744,\n",
       "                  -0.04958109,  0.3024509 ],\n",
       "                 [-0.7172542 , -0.02772926, -0.16792513, ..., -0.16596541,\n",
       "                  -0.43416548,  0.4897343 ]],\n",
       "        \n",
       "                [[-1.2411366 , -0.71127886, -1.1609846 , ..., -0.78953266,\n",
       "                  -0.09355726,  0.3998699 ],\n",
       "                 [ 1.1861113 , -0.40336037, -1.5005949 , ..., -0.33569387,\n",
       "                   0.24753967,  0.00916106],\n",
       "                 [-0.0388332 ,  0.6786114 , -0.79526055, ..., -0.06246082,\n",
       "                  -0.12866753,  0.8068477 ],\n",
       "                 ...,\n",
       "                 [-0.21029837, -0.3315811 ,  0.02640764, ...,  1.8429277 ,\n",
       "                  -0.3676226 , -0.3988306 ],\n",
       "                 [ 0.22890502, -0.03156423, -0.45705536, ..., -0.40437695,\n",
       "                   0.50866747, -0.16604576],\n",
       "                 [ 0.5368946 ,  0.23643705,  0.73062336, ..., -0.36250368,\n",
       "                   0.29070526,  0.16176659]]]], dtype=float32),\n",
       "    },\n",
       "}))"
      ]
     },
     "execution_count": 4,
     "metadata": {},
     "output_type": "execute_result"
    }
   ],
   "source": [
    "g_wf.fix_structure(params, system)"
   ]
  },
  {
   "cell_type": "code",
   "execution_count": null,
   "metadata": {},
   "outputs": [],
   "source": []
  },
  {
   "cell_type": "code",
   "execution_count": 8,
   "metadata": {},
   "outputs": [
    {
     "data": {
      "text/plain": [
       "(Array([-1.], dtype=float32), Array([-0.35908234], dtype=float32))"
      ]
     },
     "execution_count": 8,
     "metadata": {},
     "output_type": "execute_result"
    }
   ],
   "source": [
    "g_wf.signed(params, system)"
   ]
  },
  {
   "cell_type": "code",
   "execution_count": 10,
   "metadata": {},
   "outputs": [
    {
     "data": {
      "text/plain": [
       "(Array([-1.], dtype=float32), Array([-0.35908216], dtype=float32))"
      ]
     },
     "execution_count": 10,
     "metadata": {},
     "output_type": "execute_result"
    }
   ],
   "source": [
    "jax.jit(g_wf.signed)(params, system)"
   ]
  },
  {
   "cell_type": "code",
   "execution_count": 4,
   "metadata": {},
   "outputs": [
    {
     "data": {
      "text/plain": [
       "(Array([-1.], dtype=float32), Array([-6.871541], dtype=float32))"
      ]
     },
     "execution_count": 4,
     "metadata": {},
     "output_type": "execute_result"
    }
   ],
   "source": [
    "g_wf.signed(params, system.replace(electrons=system.electrons[np.array([1, 0, 2, 3])]))"
   ]
  },
  {
   "cell_type": "code",
   "execution_count": null,
   "metadata": {},
   "outputs": [],
   "source": []
  },
  {
   "cell_type": "code",
   "execution_count": null,
   "metadata": {},
   "outputs": [],
   "source": []
  },
  {
   "cell_type": "code",
   "execution_count": null,
   "metadata": {},
   "outputs": [],
   "source": []
  },
  {
   "cell_type": "code",
   "execution_count": null,
   "metadata": {},
   "outputs": [],
   "source": []
  },
  {
   "cell_type": "code",
   "execution_count": null,
   "metadata": {},
   "outputs": [],
   "source": []
  },
  {
   "cell_type": "code",
   "execution_count": null,
   "metadata": {},
   "outputs": [],
   "source": []
  },
  {
   "cell_type": "code",
   "execution_count": 11,
   "metadata": {},
   "outputs": [],
   "source": [
    "class Test(ReparamModule):\n",
    "    @nn.compact\n",
    "    def __call__(self, i):\n",
    "        self.param('x', lambda *_: jnp.zeros(2))\n",
    "        return self.reparam(\n",
    "            'test', lambda key: jnp.arange(i), param_type=ParamTypes.NUCLEI\n",
    "        )[0].sum()"
   ]
  },
  {
   "cell_type": "code",
   "execution_count": 12,
   "metadata": {},
   "outputs": [],
   "source": [
    "m = Test()\n",
    "p = m.init(jax.random.PRNGKey(0), 1)"
   ]
  },
  {
   "cell_type": "code",
   "execution_count": 13,
   "metadata": {},
   "outputs": [
    {
     "data": {
      "text/plain": [
       "{'params': {'x': Array([0., 0.], dtype=float32)},\n",
       " 'reparam': {'test': Array([0], dtype=int32)},\n",
       " 'reparam_meta': {'test': ParamMeta(param_type=<ParamTypes.NUCLEI: ParamType(name='nuclei', chunk_fn=<function chunk_nuclei at 0x7fd083833d80>)>, shape_and_dtype=ShapeDtypeStruct(shape=(), dtype=int32), mean=Array(0., dtype=float32), std=Array(0., dtype=float32), bias=True, chunk_axis=None)}}"
      ]
     },
     "execution_count": 13,
     "metadata": {},
     "output_type": "execute_result"
    }
   ],
   "source": [
    "p"
   ]
  },
  {
   "cell_type": "code",
   "execution_count": 10,
   "metadata": {},
   "outputs": [
    {
     "ename": "TypeError",
     "evalue": "'NoneType' object is not subscriptable",
     "output_type": "error",
     "traceback": [
      "\u001b[0;31m---------------------------------------------------------------------------\u001b[0m",
      "\u001b[0;31mTypeError\u001b[0m                                 Traceback (most recent call last)",
      "Cell \u001b[0;32mIn[10], line 1\u001b[0m\n\u001b[0;32m----> 1\u001b[0m \u001b[43mp\u001b[49m\u001b[43m[\u001b[49m\u001b[38;5;124;43m'\u001b[39;49m\u001b[38;5;124;43mreparam\u001b[39;49m\u001b[38;5;124;43m'\u001b[39;49m\u001b[43m]\u001b[49m[\u001b[38;5;124m'\u001b[39m\u001b[38;5;124mtest\u001b[39m\u001b[38;5;124m'\u001b[39m] \u001b[38;5;241m=\u001b[39m jnp\u001b[38;5;241m.\u001b[39marray([\u001b[38;5;241m0\u001b[39m])\n\u001b[1;32m      2\u001b[0m \u001b[38;5;28mprint\u001b[39m(m\u001b[38;5;241m.\u001b[39mapply(p, \u001b[38;5;241m1\u001b[39m))\n\u001b[1;32m      3\u001b[0m p[\u001b[38;5;124m'\u001b[39m\u001b[38;5;124mreparam\u001b[39m\u001b[38;5;124m'\u001b[39m][\u001b[38;5;124m'\u001b[39m\u001b[38;5;124mtest\u001b[39m\u001b[38;5;124m'\u001b[39m] \u001b[38;5;241m=\u001b[39m jnp\u001b[38;5;241m.\u001b[39marray([\u001b[38;5;241m1\u001b[39m, \u001b[38;5;241m2\u001b[39m, \u001b[38;5;241m3\u001b[39m])\n",
      "\u001b[0;31mTypeError\u001b[0m: 'NoneType' object is not subscriptable"
     ]
    }
   ],
   "source": [
    "p['reparam']['test'] = jnp.array([0])\n",
    "print(m.apply(p, 1))\n",
    "p['reparam']['test'] = jnp.array([1, 2, 3])\n",
    "print(m.apply(p, 3))"
   ]
  },
  {
   "cell_type": "code",
   "execution_count": 6,
   "metadata": {},
   "outputs": [
    {
     "ename": "ValueError",
     "evalue": "Parameter test has shape (3,) but expected (1,)!",
     "output_type": "error",
     "traceback": [
      "\u001b[0;31m---------------------------------------------------------------------------\u001b[0m",
      "\u001b[0;31mValueError\u001b[0m                                Traceback (most recent call last)",
      "Cell \u001b[0;32mIn[6], line 2\u001b[0m\n\u001b[1;32m      1\u001b[0m p[\u001b[38;5;124m'\u001b[39m\u001b[38;5;124mreparam\u001b[39m\u001b[38;5;124m'\u001b[39m][\u001b[38;5;124m'\u001b[39m\u001b[38;5;124mtest\u001b[39m\u001b[38;5;124m'\u001b[39m] \u001b[38;5;241m=\u001b[39m jnp\u001b[38;5;241m.\u001b[39marray([\u001b[38;5;241m0\u001b[39m, \u001b[38;5;241m1\u001b[39m, \u001b[38;5;241m3\u001b[39m])\n\u001b[0;32m----> 2\u001b[0m \u001b[38;5;28mprint\u001b[39m(\u001b[43mm\u001b[49m\u001b[38;5;241;43m.\u001b[39;49m\u001b[43mapply\u001b[49m\u001b[43m(\u001b[49m\u001b[43mp\u001b[49m\u001b[43m,\u001b[49m\u001b[43m \u001b[49m\u001b[38;5;241;43m1\u001b[39;49m\u001b[43m)\u001b[49m)\n",
      "    \u001b[0;31m[... skipping hidden 6 frame]\u001b[0m\n",
      "Cell \u001b[0;32mIn[2], line 5\u001b[0m, in \u001b[0;36mTest.__call__\u001b[0;34m(self, i)\u001b[0m\n\u001b[1;32m      2\u001b[0m \u001b[38;5;129m@nn\u001b[39m\u001b[38;5;241m.\u001b[39mcompact\n\u001b[1;32m      3\u001b[0m \u001b[38;5;28;01mdef\u001b[39;00m \u001b[38;5;21m__call__\u001b[39m(\u001b[38;5;28mself\u001b[39m, i):\n\u001b[1;32m      4\u001b[0m     \u001b[38;5;28mself\u001b[39m\u001b[38;5;241m.\u001b[39mparam(\u001b[38;5;124m'\u001b[39m\u001b[38;5;124mx\u001b[39m\u001b[38;5;124m'\u001b[39m, \u001b[38;5;28;01mlambda\u001b[39;00m \u001b[38;5;241m*\u001b[39m_: jnp\u001b[38;5;241m.\u001b[39mzeros(\u001b[38;5;241m2\u001b[39m))\n\u001b[0;32m----> 5\u001b[0m     \u001b[38;5;28;01mreturn\u001b[39;00m \u001b[38;5;28;43mself\u001b[39;49m\u001b[38;5;241;43m.\u001b[39;49m\u001b[43mreparam\u001b[49m\u001b[43m(\u001b[49m\u001b[38;5;124;43m'\u001b[39;49m\u001b[38;5;124;43mtest\u001b[39;49m\u001b[38;5;124;43m'\u001b[39;49m\u001b[43m,\u001b[49m\u001b[43m \u001b[49m\u001b[38;5;28;43;01mlambda\u001b[39;49;00m\u001b[43m \u001b[49m\u001b[43mkey\u001b[49m\u001b[43m:\u001b[49m\u001b[43m \u001b[49m\u001b[43mjnp\u001b[49m\u001b[38;5;241;43m.\u001b[39;49m\u001b[43marange\u001b[49m\u001b[43m(\u001b[49m\u001b[43mi\u001b[49m\u001b[43m)\u001b[49m\u001b[43m,\u001b[49m\u001b[43m \u001b[49m\u001b[43mparam_type\u001b[49m\u001b[38;5;241;43m=\u001b[39;49m\u001b[43mParamTypes\u001b[49m\u001b[38;5;241;43m.\u001b[39;49m\u001b[43mNUCLEI\u001b[49m\u001b[43m)\u001b[49m[\u001b[38;5;241m0\u001b[39m]\u001b[38;5;241m.\u001b[39msum()\n",
      "    \u001b[0;31m[... skipping hidden 2 frame]\u001b[0m\n",
      "File \u001b[0;32m/ceph/ssd/staff/gaoni/repos/neural_pfaffian/src/neural_pfaffian/nn/module.py:61\u001b[0m, in \u001b[0;36mReparamModule.reparam\u001b[0;34m(self, name, init_fn, param_type, bias, chunk_axis, *init_args)\u001b[0m\n\u001b[1;32m     59\u001b[0m \u001b[38;5;28;01mif\u001b[39;00m is_initialized:\n\u001b[1;32m     60\u001b[0m     \u001b[38;5;28;01mif\u001b[39;00m result\u001b[38;5;241m.\u001b[39mshape \u001b[38;5;241m!=\u001b[39m target\u001b[38;5;241m.\u001b[39mshape:\n\u001b[0;32m---> 61\u001b[0m         \u001b[38;5;28;01mraise\u001b[39;00m \u001b[38;5;167;01mValueError\u001b[39;00m(\n\u001b[1;32m     62\u001b[0m             \u001b[38;5;124mf\u001b[39m\u001b[38;5;124m'\u001b[39m\u001b[38;5;124mParameter \u001b[39m\u001b[38;5;132;01m{\u001b[39;00mname\u001b[38;5;132;01m}\u001b[39;00m\u001b[38;5;124m has shape \u001b[39m\u001b[38;5;132;01m{\u001b[39;00mresult\u001b[38;5;241m.\u001b[39mshape\u001b[38;5;132;01m}\u001b[39;00m\u001b[38;5;124m but expected \u001b[39m\u001b[38;5;132;01m{\u001b[39;00mtarget\u001b[38;5;241m.\u001b[39mshape\u001b[38;5;132;01m}\u001b[39;00m\u001b[38;5;124m!\u001b[39m\u001b[38;5;124m'\u001b[39m\n\u001b[1;32m     63\u001b[0m         )\n\u001b[1;32m     65\u001b[0m \u001b[38;5;28;01mdef\u001b[39;00m \u001b[38;5;21marray_to_meta\u001b[39m(array: A):\n\u001b[1;32m     66\u001b[0m     \u001b[38;5;66;03m# Remove the first dimension which will be taken by the system configuration\u001b[39;00m\n\u001b[1;32m     67\u001b[0m     \u001b[38;5;28;01mreturn\u001b[39;00m ParamMeta(\n\u001b[1;32m     68\u001b[0m         param_type\u001b[38;5;241m=\u001b[39mparam_type,\n\u001b[1;32m     69\u001b[0m         shape_and_dtype\u001b[38;5;241m=\u001b[39mjax\u001b[38;5;241m.\u001b[39mShapeDtypeStruct(array\u001b[38;5;241m.\u001b[39mshape[\u001b[38;5;241m1\u001b[39m:], array\u001b[38;5;241m.\u001b[39mdtype),\n\u001b[0;32m   (...)\u001b[0m\n\u001b[1;32m     73\u001b[0m         chunk_axis\u001b[38;5;241m=\u001b[39mchunk_axis,\n\u001b[1;32m     74\u001b[0m     )\n",
      "\u001b[0;31mValueError\u001b[0m: Parameter test has shape (3,) but expected (1,)!"
     ]
    }
   ],
   "source": [
    "p['reparam']['test'] = jnp.array([0, 1, 3])\n",
    "print(m.apply(p, 1))"
   ]
  },
  {
   "cell_type": "code",
   "execution_count": null,
   "metadata": {},
   "outputs": [],
   "source": []
  }
 ],
 "metadata": {
  "kernelspec": {
   "display_name": ".venv",
   "language": "python",
   "name": "python3"
  },
  "language_info": {
   "codemirror_mode": {
    "name": "ipython",
    "version": 3
   },
   "file_extension": ".py",
   "mimetype": "text/x-python",
   "name": "python",
   "nbconvert_exporter": "python",
   "pygments_lexer": "ipython3",
   "version": "3.12.5"
  }
 },
 "nbformat": 4,
 "nbformat_minor": 2
}
