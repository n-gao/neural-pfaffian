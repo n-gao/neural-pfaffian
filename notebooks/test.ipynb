{
 "cells": [
  {
   "cell_type": "code",
   "execution_count": 6,
   "metadata": {},
   "outputs": [
    {
     "name": "stdout",
     "output_type": "stream",
     "text": [
      "The autoreload extension is already loaded. To reload it, use:\n",
      "  %reload_ext autoreload\n"
     ]
    }
   ],
   "source": [
    "%load_ext autoreload\n",
    "%autoreload 2\n",
    "import flax.linen as nn\n",
    "import jax\n",
    "import jax.numpy as jnp\n",
    "import numpy as np\n",
    "\n",
    "from neural_pfaffian.nn.envelopes import EfficientEnvelope\n",
    "from neural_pfaffian.nn.ferminet import FermiNet\n",
    "from neural_pfaffian.nn.meta_network import MetaGNN\n",
    "from neural_pfaffian.nn.module import ParamTypes, ReparamModule\n",
    "from neural_pfaffian.nn.orbitals import Pfaffian\n",
    "from neural_pfaffian.nn.psiformer import PsiFormer\n",
    "from neural_pfaffian.nn.wave_function import GeneralizedWaveFunction, WaveFunction\n",
    "from neural_pfaffian.systems import Systems"
   ]
  },
  {
   "cell_type": "code",
   "execution_count": 7,
   "metadata": {},
   "outputs": [],
   "source": [
    "system = Systems(\n",
    "    spins=((2, 2),),\n",
    "    charges=((2,),),\n",
    "    electrons=jnp.asarray(np.random.normal(size=(4, 3))),\n",
    "    nuclei=jnp.zeros((1, 3)),\n",
    ")\n",
    "embedding = FermiNet(256, [(256, 32), (256, 32)], jnp.tanh)\n",
    "embedding = PsiFormer(256, 256, 4, 4, jnp.tanh)\n",
    "# embedding = Moon(256, 4, 256, 64, 16, 6, jnp.tanh)\n",
    "envelopes = EfficientEnvelope(1, 1, True, 8)\n",
    "orbitals = Pfaffian(16, 8, envelopes, 10, 0.1, 1.0, 1e-4)\n",
    "meta = MetaGNN(None, 64, 128, 4, jnp.tanh, 8, tuple(system.flat_charges))\n",
    "wf = WaveFunction(embedding, orbitals, None)\n",
    "g_wf = GeneralizedWaveFunction.create(wf, meta)\n",
    "params = g_wf.init(jax.random.key(0), system)"
   ]
  },
  {
   "cell_type": "code",
   "execution_count": 8,
   "metadata": {},
   "outputs": [
    {
     "data": {
      "text/plain": [
       "(Array([-1.], dtype=float32), Array([-0.35908234], dtype=float32))"
      ]
     },
     "execution_count": 8,
     "metadata": {},
     "output_type": "execute_result"
    }
   ],
   "source": [
    "g_wf.signed(params, system)"
   ]
  },
  {
   "cell_type": "code",
   "execution_count": 10,
   "metadata": {},
   "outputs": [
    {
     "data": {
      "text/plain": [
       "(Array([-1.], dtype=float32), Array([-0.35908216], dtype=float32))"
      ]
     },
     "execution_count": 10,
     "metadata": {},
     "output_type": "execute_result"
    }
   ],
   "source": [
    "jax.jit(g_wf.signed)(params, system)"
   ]
  },
  {
   "cell_type": "code",
   "execution_count": 4,
   "metadata": {},
   "outputs": [
    {
     "data": {
      "text/plain": [
       "(Array([-1.], dtype=float32), Array([-6.871541], dtype=float32))"
      ]
     },
     "execution_count": 4,
     "metadata": {},
     "output_type": "execute_result"
    }
   ],
   "source": [
    "g_wf.signed(params, system.replace(electrons=system.electrons[np.array([1, 0, 2, 3])]))"
   ]
  },
  {
   "cell_type": "code",
   "execution_count": null,
   "metadata": {},
   "outputs": [],
   "source": []
  },
  {
   "cell_type": "code",
   "execution_count": null,
   "metadata": {},
   "outputs": [],
   "source": []
  },
  {
   "cell_type": "code",
   "execution_count": null,
   "metadata": {},
   "outputs": [],
   "source": []
  },
  {
   "cell_type": "code",
   "execution_count": null,
   "metadata": {},
   "outputs": [],
   "source": []
  },
  {
   "cell_type": "code",
   "execution_count": null,
   "metadata": {},
   "outputs": [],
   "source": []
  },
  {
   "cell_type": "code",
   "execution_count": null,
   "metadata": {},
   "outputs": [],
   "source": []
  },
  {
   "cell_type": "code",
   "execution_count": 11,
   "metadata": {},
   "outputs": [],
   "source": [
    "class Test(ReparamModule):\n",
    "    @nn.compact\n",
    "    def __call__(self, i):\n",
    "        self.param('x', lambda *_: jnp.zeros(2))\n",
    "        return self.reparam(\n",
    "            'test', lambda key: jnp.arange(i), param_type=ParamTypes.NUCLEI\n",
    "        )[0].sum()"
   ]
  },
  {
   "cell_type": "code",
   "execution_count": 12,
   "metadata": {},
   "outputs": [],
   "source": [
    "m = Test()\n",
    "p = m.init(jax.random.PRNGKey(0), 1)"
   ]
  },
  {
   "cell_type": "code",
   "execution_count": 13,
   "metadata": {},
   "outputs": [
    {
     "data": {
      "text/plain": [
       "{'params': {'x': Array([0., 0.], dtype=float32)},\n",
       " 'reparam': {'test': Array([0], dtype=int32)},\n",
       " 'reparam_meta': {'test': ParamMeta(param_type=<ParamTypes.NUCLEI: ParamType(name='nuclei', chunk_fn=<function chunk_nuclei at 0x7fd083833d80>)>, shape_and_dtype=ShapeDtypeStruct(shape=(), dtype=int32), mean=Array(0., dtype=float32), std=Array(0., dtype=float32), bias=True, chunk_axis=None)}}"
      ]
     },
     "execution_count": 13,
     "metadata": {},
     "output_type": "execute_result"
    }
   ],
   "source": [
    "p"
   ]
  },
  {
   "cell_type": "code",
   "execution_count": 10,
   "metadata": {},
   "outputs": [
    {
     "ename": "TypeError",
     "evalue": "'NoneType' object is not subscriptable",
     "output_type": "error",
     "traceback": [
      "\u001b[0;31m---------------------------------------------------------------------------\u001b[0m",
      "\u001b[0;31mTypeError\u001b[0m                                 Traceback (most recent call last)",
      "Cell \u001b[0;32mIn[10], line 1\u001b[0m\n\u001b[0;32m----> 1\u001b[0m \u001b[43mp\u001b[49m\u001b[43m[\u001b[49m\u001b[38;5;124;43m'\u001b[39;49m\u001b[38;5;124;43mreparam\u001b[39;49m\u001b[38;5;124;43m'\u001b[39;49m\u001b[43m]\u001b[49m[\u001b[38;5;124m'\u001b[39m\u001b[38;5;124mtest\u001b[39m\u001b[38;5;124m'\u001b[39m] \u001b[38;5;241m=\u001b[39m jnp\u001b[38;5;241m.\u001b[39marray([\u001b[38;5;241m0\u001b[39m])\n\u001b[1;32m      2\u001b[0m \u001b[38;5;28mprint\u001b[39m(m\u001b[38;5;241m.\u001b[39mapply(p, \u001b[38;5;241m1\u001b[39m))\n\u001b[1;32m      3\u001b[0m p[\u001b[38;5;124m'\u001b[39m\u001b[38;5;124mreparam\u001b[39m\u001b[38;5;124m'\u001b[39m][\u001b[38;5;124m'\u001b[39m\u001b[38;5;124mtest\u001b[39m\u001b[38;5;124m'\u001b[39m] \u001b[38;5;241m=\u001b[39m jnp\u001b[38;5;241m.\u001b[39marray([\u001b[38;5;241m1\u001b[39m, \u001b[38;5;241m2\u001b[39m, \u001b[38;5;241m3\u001b[39m])\n",
      "\u001b[0;31mTypeError\u001b[0m: 'NoneType' object is not subscriptable"
     ]
    }
   ],
   "source": [
    "p['reparam']['test'] = jnp.array([0])\n",
    "print(m.apply(p, 1))\n",
    "p['reparam']['test'] = jnp.array([1, 2, 3])\n",
    "print(m.apply(p, 3))"
   ]
  },
  {
   "cell_type": "code",
   "execution_count": 6,
   "metadata": {},
   "outputs": [
    {
     "ename": "ValueError",
     "evalue": "Parameter test has shape (3,) but expected (1,)!",
     "output_type": "error",
     "traceback": [
      "\u001b[0;31m---------------------------------------------------------------------------\u001b[0m",
      "\u001b[0;31mValueError\u001b[0m                                Traceback (most recent call last)",
      "Cell \u001b[0;32mIn[6], line 2\u001b[0m\n\u001b[1;32m      1\u001b[0m p[\u001b[38;5;124m'\u001b[39m\u001b[38;5;124mreparam\u001b[39m\u001b[38;5;124m'\u001b[39m][\u001b[38;5;124m'\u001b[39m\u001b[38;5;124mtest\u001b[39m\u001b[38;5;124m'\u001b[39m] \u001b[38;5;241m=\u001b[39m jnp\u001b[38;5;241m.\u001b[39marray([\u001b[38;5;241m0\u001b[39m, \u001b[38;5;241m1\u001b[39m, \u001b[38;5;241m3\u001b[39m])\n\u001b[0;32m----> 2\u001b[0m \u001b[38;5;28mprint\u001b[39m(\u001b[43mm\u001b[49m\u001b[38;5;241;43m.\u001b[39;49m\u001b[43mapply\u001b[49m\u001b[43m(\u001b[49m\u001b[43mp\u001b[49m\u001b[43m,\u001b[49m\u001b[43m \u001b[49m\u001b[38;5;241;43m1\u001b[39;49m\u001b[43m)\u001b[49m)\n",
      "    \u001b[0;31m[... skipping hidden 6 frame]\u001b[0m\n",
      "Cell \u001b[0;32mIn[2], line 5\u001b[0m, in \u001b[0;36mTest.__call__\u001b[0;34m(self, i)\u001b[0m\n\u001b[1;32m      2\u001b[0m \u001b[38;5;129m@nn\u001b[39m\u001b[38;5;241m.\u001b[39mcompact\n\u001b[1;32m      3\u001b[0m \u001b[38;5;28;01mdef\u001b[39;00m \u001b[38;5;21m__call__\u001b[39m(\u001b[38;5;28mself\u001b[39m, i):\n\u001b[1;32m      4\u001b[0m     \u001b[38;5;28mself\u001b[39m\u001b[38;5;241m.\u001b[39mparam(\u001b[38;5;124m'\u001b[39m\u001b[38;5;124mx\u001b[39m\u001b[38;5;124m'\u001b[39m, \u001b[38;5;28;01mlambda\u001b[39;00m \u001b[38;5;241m*\u001b[39m_: jnp\u001b[38;5;241m.\u001b[39mzeros(\u001b[38;5;241m2\u001b[39m))\n\u001b[0;32m----> 5\u001b[0m     \u001b[38;5;28;01mreturn\u001b[39;00m \u001b[38;5;28;43mself\u001b[39;49m\u001b[38;5;241;43m.\u001b[39;49m\u001b[43mreparam\u001b[49m\u001b[43m(\u001b[49m\u001b[38;5;124;43m'\u001b[39;49m\u001b[38;5;124;43mtest\u001b[39;49m\u001b[38;5;124;43m'\u001b[39;49m\u001b[43m,\u001b[49m\u001b[43m \u001b[49m\u001b[38;5;28;43;01mlambda\u001b[39;49;00m\u001b[43m \u001b[49m\u001b[43mkey\u001b[49m\u001b[43m:\u001b[49m\u001b[43m \u001b[49m\u001b[43mjnp\u001b[49m\u001b[38;5;241;43m.\u001b[39;49m\u001b[43marange\u001b[49m\u001b[43m(\u001b[49m\u001b[43mi\u001b[49m\u001b[43m)\u001b[49m\u001b[43m,\u001b[49m\u001b[43m \u001b[49m\u001b[43mparam_type\u001b[49m\u001b[38;5;241;43m=\u001b[39;49m\u001b[43mParamTypes\u001b[49m\u001b[38;5;241;43m.\u001b[39;49m\u001b[43mNUCLEI\u001b[49m\u001b[43m)\u001b[49m[\u001b[38;5;241m0\u001b[39m]\u001b[38;5;241m.\u001b[39msum()\n",
      "    \u001b[0;31m[... skipping hidden 2 frame]\u001b[0m\n",
      "File \u001b[0;32m/ceph/ssd/staff/gaoni/repos/neural_pfaffian/src/neural_pfaffian/nn/module.py:61\u001b[0m, in \u001b[0;36mReparamModule.reparam\u001b[0;34m(self, name, init_fn, param_type, bias, chunk_axis, *init_args)\u001b[0m\n\u001b[1;32m     59\u001b[0m \u001b[38;5;28;01mif\u001b[39;00m is_initialized:\n\u001b[1;32m     60\u001b[0m     \u001b[38;5;28;01mif\u001b[39;00m result\u001b[38;5;241m.\u001b[39mshape \u001b[38;5;241m!=\u001b[39m target\u001b[38;5;241m.\u001b[39mshape:\n\u001b[0;32m---> 61\u001b[0m         \u001b[38;5;28;01mraise\u001b[39;00m \u001b[38;5;167;01mValueError\u001b[39;00m(\n\u001b[1;32m     62\u001b[0m             \u001b[38;5;124mf\u001b[39m\u001b[38;5;124m'\u001b[39m\u001b[38;5;124mParameter \u001b[39m\u001b[38;5;132;01m{\u001b[39;00mname\u001b[38;5;132;01m}\u001b[39;00m\u001b[38;5;124m has shape \u001b[39m\u001b[38;5;132;01m{\u001b[39;00mresult\u001b[38;5;241m.\u001b[39mshape\u001b[38;5;132;01m}\u001b[39;00m\u001b[38;5;124m but expected \u001b[39m\u001b[38;5;132;01m{\u001b[39;00mtarget\u001b[38;5;241m.\u001b[39mshape\u001b[38;5;132;01m}\u001b[39;00m\u001b[38;5;124m!\u001b[39m\u001b[38;5;124m'\u001b[39m\n\u001b[1;32m     63\u001b[0m         )\n\u001b[1;32m     65\u001b[0m \u001b[38;5;28;01mdef\u001b[39;00m \u001b[38;5;21marray_to_meta\u001b[39m(array: A):\n\u001b[1;32m     66\u001b[0m     \u001b[38;5;66;03m# Remove the first dimension which will be taken by the system configuration\u001b[39;00m\n\u001b[1;32m     67\u001b[0m     \u001b[38;5;28;01mreturn\u001b[39;00m ParamMeta(\n\u001b[1;32m     68\u001b[0m         param_type\u001b[38;5;241m=\u001b[39mparam_type,\n\u001b[1;32m     69\u001b[0m         shape_and_dtype\u001b[38;5;241m=\u001b[39mjax\u001b[38;5;241m.\u001b[39mShapeDtypeStruct(array\u001b[38;5;241m.\u001b[39mshape[\u001b[38;5;241m1\u001b[39m:], array\u001b[38;5;241m.\u001b[39mdtype),\n\u001b[0;32m   (...)\u001b[0m\n\u001b[1;32m     73\u001b[0m         chunk_axis\u001b[38;5;241m=\u001b[39mchunk_axis,\n\u001b[1;32m     74\u001b[0m     )\n",
      "\u001b[0;31mValueError\u001b[0m: Parameter test has shape (3,) but expected (1,)!"
     ]
    }
   ],
   "source": [
    "p['reparam']['test'] = jnp.array([0, 1, 3])\n",
    "print(m.apply(p, 1))"
   ]
  },
  {
   "cell_type": "code",
   "execution_count": null,
   "metadata": {},
   "outputs": [],
   "source": []
  }
 ],
 "metadata": {
  "kernelspec": {
   "display_name": ".venv",
   "language": "python",
   "name": "python3"
  },
  "language_info": {
   "codemirror_mode": {
    "name": "ipython",
    "version": 3
   },
   "file_extension": ".py",
   "mimetype": "text/x-python",
   "name": "python",
   "nbconvert_exporter": "python",
   "pygments_lexer": "ipython3",
   "version": "3.12.5"
  }
 },
 "nbformat": 4,
 "nbformat_minor": 2
}
